{
 "cells": [
  {
   "cell_type": "code",
   "execution_count": 1,
   "id": "bb9443d7",
   "metadata": {
    "ExecuteTime": {
     "end_time": "2022-11-23T06:03:52.468656Z",
     "start_time": "2022-11-23T06:03:51.676700Z"
    },
    "scrolled": false
   },
   "outputs": [
    {
     "name": "stderr",
     "output_type": "stream",
     "text": [
      "C:\\Users\\socsoft\\anaconda3\\lib\\site-packages\\numpy\\_distributor_init.py:30: UserWarning: loaded more than 1 DLL from .libs:\n",
      "C:\\Users\\socsoft\\anaconda3\\lib\\site-packages\\numpy\\.libs\\libopenblas.PYQHXLVVQ7VESDPUVUADXEVJOBGHJPAY.gfortran-win_amd64.dll\n",
      "C:\\Users\\socsoft\\anaconda3\\lib\\site-packages\\numpy\\.libs\\libopenblas.WCDJNK7YVMPZQ2ME2ZZHJJRJ3JIKNDB7.gfortran-win_amd64.dll\n",
      "  warnings.warn(\"loaded more than 1 DLL from .libs:\"\n"
     ]
    }
   ],
   "source": [
    "import GetOldTweets3 as got\n",
    "from bs4 import BeautifulSoup\n",
    "import pandas as pd, numpy as np\n",
    "import warnings\n",
    "warnings.filterwarnings('ignore')\n",
    "\n",
    "import twitter\n",
    "import string, re, os, snscrape\n",
    "from time import sleep\n",
    "import snscrape.modules.twitter as sntwitter\n",
    "import csv\n",
    "import datetime\n",
    "from tqdm.notebook import tqdm"
   ]
  },
  {
   "cell_type": "code",
   "execution_count": 2,
   "id": "7c5861fe",
   "metadata": {
    "ExecuteTime": {
     "end_time": "2022-11-23T06:03:52.483612Z",
     "start_time": "2022-11-23T06:03:52.469651Z"
    }
   },
   "outputs": [],
   "source": [
    "def read_tweet_list(keyword,startDay,endDay):\n",
    "    \n",
    "    tweets_list1 = []\n",
    "    tweets_df2 = pd.DataFrame(columns=['URL','Datetime', 'Tweet Id','Content', 'UserID','Park'])\n",
    "    \n",
    "    # 키워드 검색 결과가 없는 경우 빈 데이터프레임을 반환 함\n",
    "    if pd.isnull(keyword) or keyword == \"\":\n",
    "        return tweets_df2;\n",
    "        \n",
    "    # Using TwitterSearchScraper to scrape data and append tweets to list\n",
    "    for i,tweet in enumerate(sntwitter.TwitterSearchScraper(\"인천, \"+keyword+' since:'+startDay+' until:'+endDay+'').get_items()):\n",
    "        tweets_list1.append([tweet.url, tweet.date, tweet.id, tweet.content, tweet.username, keyword])\n",
    "                \n",
    "        # Creating a dataframe from the tweets list above \n",
    "        tweets_df2 = pd.DataFrame(tweets_list1, columns=['URL','Datetime', 'Tweet Id','Content', 'UserID','Park'])\n",
    "    \n",
    "    global fin_df\n",
    "    fin_df = tweets_df2\n",
    "    \n",
    "    #return fin_df"
   ]
  },
  {
   "cell_type": "code",
   "execution_count": 5,
   "id": "bd427c0a",
   "metadata": {
    "ExecuteTime": {
     "end_time": "2022-11-23T07:01:43.404408Z",
     "start_time": "2022-11-23T06:39:06.437702Z"
    },
    "scrolled": false
   },
   "outputs": [
    {
     "data": {
      "application/vnd.jupyter.widget-view+json": {
       "model_id": "2adb3cdd93014b5890c2b02eb37eedd8",
       "version_major": 2,
       "version_minor": 0
      },
      "text/plain": [
       "  0%|          | 0/628 [00:00<?, ?it/s]"
      ]
     },
     "metadata": {},
     "output_type": "display_data"
    }
   ],
   "source": [
    "# 검색 키워드 리스트\n",
    "park_list = pd.read_csv('./1.parks/1.공공데이터포털(data.go.kr)/1.도시공원정보/221011_parks_concat_modify_add_sgg_hjd.csv', encoding='euc-kr').iloc[:,2].to_list()\n",
    "\n",
    "df = pd.DataFrame()\n",
    "\n",
    "for i in tqdm(range(len(park_list))):\n",
    "    read_tweet_list(park_list[i], '2019-06-01','2022-05-31')\n",
    "    df = pd.concat([df, fin_df], axis=0)\n",
    "    \n",
    "df.insert(0,'Scrap_day','')\n",
    "df['Scrap_day'] = datetime.datetime.now().date()\n",
    "    \n",
    "df = df.sort_values('Datetime').reset_index(drop=True)\n",
    "df.drop(['URL','Tweet Id'], axis=1, inplace=True)\n",
    "\n",
    "df.to_csv('./twitter_crawling_' + str(datetime.datetime.now().date()) + '.csv', encoding='utf-8-sig', index=False)"
   ]
  },
  {
   "cell_type": "code",
   "execution_count": null,
   "id": "076b7c85",
   "metadata": {},
   "outputs": [],
   "source": []
  },
  {
   "cell_type": "code",
   "execution_count": null,
   "id": "66e1166c",
   "metadata": {},
   "outputs": [],
   "source": []
  },
  {
   "cell_type": "markdown",
   "id": "5b405be9",
   "metadata": {},
   "source": [
    "# 인천 15개 공원 "
   ]
  },
  {
   "cell_type": "code",
   "execution_count": 3,
   "id": "795b205b",
   "metadata": {
    "ExecuteTime": {
     "end_time": "2022-10-08T05:35:20.748471Z",
     "start_time": "2022-10-08T05:33:29.934451Z"
    },
    "scrolled": true
   },
   "outputs": [
    {
     "data": {
      "application/vnd.jupyter.widget-view+json": {
       "model_id": "1413cf3b6afd46ddb1ab63e51dfc6f7a",
       "version_major": 2,
       "version_minor": 0
      },
      "text/plain": [
       "  0%|          | 0/13 [00:00<?, ?it/s]"
      ]
     },
     "metadata": {},
     "output_type": "display_data"
    }
   ],
   "source": [
    "# 검색 키워드 리스트\n",
    "park_list = ['인천대공원','중앙공원','월미공원','센트럴파크','청라호수공원','씨사이드파크','소래습지생태공원','연희공원',\n",
    "            '신촌공원','계양산 산림휴양공원','수봉공원','인천교공원','원적산공원']\n",
    "\n",
    "# 인천대로 선형공원<< 계획 인근 공원 추가\n",
    "# 나머지 아라뱃길주변공원화, 수도권매립지공원화, 검단신도시u공원, 계양테크노밸리는 해당 주변 공원을 알 수 없어 검색 목록에서 제외\n",
    "\n",
    "df = pd.DataFrame()\n",
    "\n",
    "for i in tqdm(range(len(park_list))):\n",
    "    read_tweet_list(park_list[i], '2019-06-01','2022-05-31')\n",
    "    df = pd.concat([df, fin_df], axis=0)\n",
    "    \n",
    "df.insert(0,'Scrap_day','')\n",
    "df['Scrap_day'] = datetime.datetime.now().date()\n",
    "    \n",
    "df = df.sort_values('Datetime').reset_index(drop=True)\n",
    "df.drop(['URL','Tweet Id'], axis=1, inplace=True)\n",
    "\n",
    "df.to_csv('./twitter_crawling_15parks' + str(datetime.datetime.now().date()) + '.csv', encoding='utf-8-sig', index=False)"
   ]
  },
  {
   "cell_type": "markdown",
   "id": "a1750688",
   "metadata": {},
   "source": [
    "https로 시작하는 거 지울 수 있나 ㅇㅅㅇ"
   ]
  },
  {
   "cell_type": "code",
   "execution_count": null,
   "id": "51e72e1e",
   "metadata": {},
   "outputs": [],
   "source": []
  }
 ],
 "metadata": {
  "kernelspec": {
   "display_name": "Python 3 (ipykernel)",
   "language": "python",
   "name": "python3"
  },
  "language_info": {
   "codemirror_mode": {
    "name": "ipython",
    "version": 3
   },
   "file_extension": ".py",
   "mimetype": "text/x-python",
   "name": "python",
   "nbconvert_exporter": "python",
   "pygments_lexer": "ipython3",
   "version": "3.8.13"
  },
  "toc": {
   "base_numbering": 1,
   "nav_menu": {},
   "number_sections": true,
   "sideBar": true,
   "skip_h1_title": false,
   "title_cell": "Table of Contents",
   "title_sidebar": "Contents",
   "toc_cell": false,
   "toc_position": {},
   "toc_section_display": true,
   "toc_window_display": false
  }
 },
 "nbformat": 4,
 "nbformat_minor": 5
}
